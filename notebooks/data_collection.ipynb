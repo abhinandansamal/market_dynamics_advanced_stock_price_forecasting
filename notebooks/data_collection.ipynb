{
 "cells": [
  {
   "cell_type": "code",
   "execution_count": 3,
   "metadata": {},
   "outputs": [],
   "source": [
    "# import required libraries\n",
    "import yfinance as yf\n",
    "import pandas as pd\n",
    "import mysql.connector\n",
    "from sqlalchemy import create_engine\n",
    "\n",
    "# Set display options for pandas\n",
    "pd.set_option(\"display.max_columns\", None)\n",
    "pd.set_option(\"display.max_rows\", None)\n",
    "pd.set_option(\"display.max_colwidth\", None)"
   ]
  },
  {
   "cell_type": "code",
   "execution_count": 32,
   "metadata": {},
   "outputs": [],
   "source": [
    "# List of stock symbols for data collection\n",
    "stocks = ['AAPL', 'MSFT', 'GOOGL', 'AMZN', 'TSLA', 'META', 'NVDA', 'JPM', 'V', 'NFLX']\n",
    "\n",
    "# Define the date range\n",
    "start_date = '2010-01-01'\n",
    "end_date = '2024-01-01'"
   ]
  },
  {
   "cell_type": "code",
   "execution_count": 33,
   "metadata": {},
   "outputs": [
    {
     "name": "stderr",
     "output_type": "stream",
     "text": [
      "[*********************100%%**********************]  1 of 1 completed\n",
      "[*********************100%%**********************]  1 of 1 completed\n",
      "[*********************100%%**********************]  1 of 1 completed\n",
      "[*********************100%%**********************]  1 of 1 completed\n",
      "[*********************100%%**********************]  1 of 1 completed\n",
      "[*********************100%%**********************]  1 of 1 completed\n",
      "[*********************100%%**********************]  1 of 1 completed\n",
      "[*********************100%%**********************]  1 of 1 completed\n"
     ]
    },
    {
     "name": "stdout",
     "output_type": "stream",
     "text": [
      "Downloaded data for AAPL\n",
      "Downloaded data for MSFT\n",
      "Downloaded data for GOOGL\n",
      "Downloaded data for AMZN\n",
      "Downloaded data for TSLA\n",
      "Downloaded data for META\n",
      "Downloaded data for NVDA\n",
      "Downloaded data for JPM\n"
     ]
    },
    {
     "name": "stderr",
     "output_type": "stream",
     "text": [
      "[*********************100%%**********************]  1 of 1 completed\n",
      "[*********************100%%**********************]  1 of 1 completed"
     ]
    },
    {
     "name": "stdout",
     "output_type": "stream",
     "text": [
      "Downloaded data for V\n",
      "Downloaded data for NFLX\n"
     ]
    },
    {
     "name": "stderr",
     "output_type": "stream",
     "text": [
      "\n"
     ]
    }
   ],
   "source": [
    "# Fetch data for each stock\n",
    "dataframes = []\n",
    "for stock in stocks:\n",
    "    try:\n",
    "        df = yf.download(stock, start=start_date, end=end_date)\n",
    "        df['Stock'] = stock\n",
    "        dataframes.append(df)\n",
    "        print(f\"Downloaded data for {stock}\")\n",
    "    except Exception as e:\n",
    "        print(f\"Failed to download data for {stock}: {e}\")"
   ]
  },
  {
   "cell_type": "code",
   "execution_count": 34,
   "metadata": {},
   "outputs": [],
   "source": [
    "# Concatenate all dataframes\n",
    "data = pd.concat(dataframes)"
   ]
  },
  {
   "cell_type": "code",
   "execution_count": 35,
   "metadata": {},
   "outputs": [],
   "source": [
    "# Reset index\n",
    "data.reset_index(inplace=True)"
   ]
  },
  {
   "cell_type": "code",
   "execution_count": 36,
   "metadata": {},
   "outputs": [
    {
     "data": {
      "text/html": [
       "<div>\n",
       "<style scoped>\n",
       "    .dataframe tbody tr th:only-of-type {\n",
       "        vertical-align: middle;\n",
       "    }\n",
       "\n",
       "    .dataframe tbody tr th {\n",
       "        vertical-align: top;\n",
       "    }\n",
       "\n",
       "    .dataframe thead th {\n",
       "        text-align: right;\n",
       "    }\n",
       "</style>\n",
       "<table border=\"1\" class=\"dataframe\">\n",
       "  <thead>\n",
       "    <tr style=\"text-align: right;\">\n",
       "      <th></th>\n",
       "      <th>Date</th>\n",
       "      <th>Open</th>\n",
       "      <th>High</th>\n",
       "      <th>Low</th>\n",
       "      <th>Close</th>\n",
       "      <th>Adj Close</th>\n",
       "      <th>Volume</th>\n",
       "      <th>Stock</th>\n",
       "    </tr>\n",
       "  </thead>\n",
       "  <tbody>\n",
       "    <tr>\n",
       "      <th>0</th>\n",
       "      <td>2010-01-04</td>\n",
       "      <td>7.622500</td>\n",
       "      <td>7.660714</td>\n",
       "      <td>7.585000</td>\n",
       "      <td>7.643214</td>\n",
       "      <td>6.470742</td>\n",
       "      <td>493729600</td>\n",
       "      <td>AAPL</td>\n",
       "    </tr>\n",
       "    <tr>\n",
       "      <th>1</th>\n",
       "      <td>2010-01-05</td>\n",
       "      <td>7.664286</td>\n",
       "      <td>7.699643</td>\n",
       "      <td>7.616071</td>\n",
       "      <td>7.656429</td>\n",
       "      <td>6.481928</td>\n",
       "      <td>601904800</td>\n",
       "      <td>AAPL</td>\n",
       "    </tr>\n",
       "    <tr>\n",
       "      <th>2</th>\n",
       "      <td>2010-01-06</td>\n",
       "      <td>7.656429</td>\n",
       "      <td>7.686786</td>\n",
       "      <td>7.526786</td>\n",
       "      <td>7.534643</td>\n",
       "      <td>6.378825</td>\n",
       "      <td>552160000</td>\n",
       "      <td>AAPL</td>\n",
       "    </tr>\n",
       "    <tr>\n",
       "      <th>3</th>\n",
       "      <td>2010-01-07</td>\n",
       "      <td>7.562500</td>\n",
       "      <td>7.571429</td>\n",
       "      <td>7.466071</td>\n",
       "      <td>7.520714</td>\n",
       "      <td>6.367032</td>\n",
       "      <td>477131200</td>\n",
       "      <td>AAPL</td>\n",
       "    </tr>\n",
       "    <tr>\n",
       "      <th>4</th>\n",
       "      <td>2010-01-08</td>\n",
       "      <td>7.510714</td>\n",
       "      <td>7.571429</td>\n",
       "      <td>7.466429</td>\n",
       "      <td>7.570714</td>\n",
       "      <td>6.409363</td>\n",
       "      <td>447610800</td>\n",
       "      <td>AAPL</td>\n",
       "    </tr>\n",
       "  </tbody>\n",
       "</table>\n",
       "</div>"
      ],
      "text/plain": [
       "        Date      Open      High       Low     Close  Adj Close     Volume  \\\n",
       "0 2010-01-04  7.622500  7.660714  7.585000  7.643214   6.470742  493729600   \n",
       "1 2010-01-05  7.664286  7.699643  7.616071  7.656429   6.481928  601904800   \n",
       "2 2010-01-06  7.656429  7.686786  7.526786  7.534643   6.378825  552160000   \n",
       "3 2010-01-07  7.562500  7.571429  7.466071  7.520714   6.367032  477131200   \n",
       "4 2010-01-08  7.510714  7.571429  7.466429  7.570714   6.409363  447610800   \n",
       "\n",
       "  Stock  \n",
       "0  AAPL  \n",
       "1  AAPL  \n",
       "2  AAPL  \n",
       "3  AAPL  \n",
       "4  AAPL  "
      ]
     },
     "metadata": {},
     "output_type": "display_data"
    }
   ],
   "source": [
    "display(data.head())"
   ]
  },
  {
   "cell_type": "code",
   "execution_count": 37,
   "metadata": {},
   "outputs": [
    {
     "name": "stdout",
     "output_type": "stream",
     "text": [
      "<class 'pandas.core.frame.DataFrame'>\n",
      "RangeIndex: 34499 entries, 0 to 34498\n",
      "Data columns (total 8 columns):\n",
      " #   Column     Non-Null Count  Dtype         \n",
      "---  ------     --------------  -----         \n",
      " 0   Date       34499 non-null  datetime64[ns]\n",
      " 1   Open       34499 non-null  float64       \n",
      " 2   High       34499 non-null  float64       \n",
      " 3   Low        34499 non-null  float64       \n",
      " 4   Close      34499 non-null  float64       \n",
      " 5   Adj Close  34499 non-null  float64       \n",
      " 6   Volume     34499 non-null  int64         \n",
      " 7   Stock      34499 non-null  object        \n",
      "dtypes: datetime64[ns](1), float64(5), int64(1), object(1)\n",
      "memory usage: 2.1+ MB\n"
     ]
    },
    {
     "data": {
      "text/plain": [
       "None"
      ]
     },
     "metadata": {},
     "output_type": "display_data"
    }
   ],
   "source": [
    "display(data.info())"
   ]
  },
  {
   "cell_type": "code",
   "execution_count": 25,
   "metadata": {},
   "outputs": [],
   "source": [
    "# Save the data to the notebooks/data folder\n",
    "data.to_csv('data/stock_data.csv', index=False)"
   ]
  },
  {
   "cell_type": "code",
   "execution_count": 42,
   "metadata": {},
   "outputs": [],
   "source": [
    "# Database connection details\n",
    "db_host = 'localhost'\n",
    "db_port = 3306\n",
    "db_name = 'stock_db'\n",
    "db_user = 'stock_user'\n",
    "db_password = 'calculus'"
   ]
  },
  {
   "cell_type": "code",
   "execution_count": 43,
   "metadata": {},
   "outputs": [
    {
     "name": "stdout",
     "output_type": "stream",
     "text": [
      "Connection successful\n"
     ]
    }
   ],
   "source": [
    "# make the database connection\n",
    "try:\n",
    "  conn=mysql.connector.connect(host=db_host,\n",
    "                               user=db_user,\n",
    "                               password=db_password,\n",
    "                               database=db_name,\n",
    "                               auth_plugin='mysql_native_password')\n",
    "  print(\"Connection successful\")\n",
    "except Exception as e:\n",
    "  print(e)"
   ]
  },
  {
   "cell_type": "code",
   "execution_count": 45,
   "metadata": {},
   "outputs": [
    {
     "name": "stdout",
     "output_type": "stream",
     "text": [
      "2024-06-18 01:20:14,570 INFO sqlalchemy.engine.Engine SELECT DATABASE()\n",
      "2024-06-18 01:20:14,572 INFO sqlalchemy.engine.Engine [raw sql] {}\n"
     ]
    },
    {
     "name": "stdout",
     "output_type": "stream",
     "text": [
      "2024-06-18 01:20:14,574 INFO sqlalchemy.engine.Engine SELECT @@sql_mode\n",
      "2024-06-18 01:20:14,575 INFO sqlalchemy.engine.Engine [raw sql] {}\n",
      "2024-06-18 01:20:14,577 INFO sqlalchemy.engine.Engine SELECT @@lower_case_table_names\n",
      "2024-06-18 01:20:14,578 INFO sqlalchemy.engine.Engine [raw sql] {}\n",
      "2024-06-18 01:20:14,580 INFO sqlalchemy.engine.Engine BEGIN (implicit)\n",
      "2024-06-18 01:20:14,584 INFO sqlalchemy.engine.Engine DESCRIBE `stock_db`.`stock`\n",
      "2024-06-18 01:20:14,585 INFO sqlalchemy.engine.Engine [raw sql] {}\n",
      "2024-06-18 01:20:14,749 INFO sqlalchemy.engine.Engine INSERT INTO stock (`Date`, `Open`, `High`, `Low`, `Close`, `Adj Close`, `Volume`, `Stock`) VALUES (%(Date)s, %(Open)s, %(High)s, %(Low)s, %(Close)s, %(Adj_Close)s, %(Volume)s, %(Stock)s)\n",
      "2024-06-18 01:20:14,750 INFO sqlalchemy.engine.Engine [generated in 0.12745s] [{'Date': datetime.datetime(2010, 1, 4, 0, 0), 'Open': 7.622499942779541, 'High': 7.660714149475098, 'Low': 7.585000038146973, 'Close': 7.643214225769043, 'Adj_Close': 6.470742225646973, 'Volume': 493729600, 'Stock': 'AAPL'}, {'Date': datetime.datetime(2010, 1, 5, 0, 0), 'Open': 7.664286136627197, 'High': 7.699643135070801, 'Low': 7.6160712242126465, 'Close': 7.656428813934326, 'Adj_Close': 6.48192834854126, 'Volume': 601904800, 'Stock': 'AAPL'}, {'Date': datetime.datetime(2010, 1, 6, 0, 0), 'Open': 7.656428813934326, 'High': 7.68678617477417, 'Low': 7.526785850524902, 'Close': 7.534643173217773, 'Adj_Close': 6.378824710845947, 'Volume': 552160000, 'Stock': 'AAPL'}, {'Date': datetime.datetime(2010, 1, 7, 0, 0), 'Open': 7.5625, 'High': 7.5714287757873535, 'Low': 7.466071128845215, 'Close': 7.520713806152344, 'Adj_Close': 6.367032051086426, 'Volume': 477131200, 'Stock': 'AAPL'}, {'Date': datetime.datetime(2010, 1, 8, 0, 0), 'Open': 7.510714054107666, 'High': 7.5714287757873535, 'Low': 7.466429233551025, 'Close': 7.570713996887207, 'Adj_Close': 6.409363269805908, 'Volume': 447610800, 'Stock': 'AAPL'}, {'Date': datetime.datetime(2010, 1, 11, 0, 0), 'Open': 7.599999904632568, 'High': 7.607142925262451, 'Low': 7.444643020629883, 'Close': 7.503929138183594, 'Adj_Close': 6.352822780609131, 'Volume': 462229600, 'Stock': 'AAPL'}, {'Date': datetime.datetime(2010, 1, 12, 0, 0), 'Open': 7.471070766448975, 'High': 7.491786003112793, 'Low': 7.372142791748047, 'Close': 7.4185709953308105, 'Adj_Close': 6.28056001663208, 'Volume': 594459600, 'Stock': 'AAPL'}, {'Date': datetime.datetime(2010, 1, 13, 0, 0), 'Open': 7.423929214477539, 'High': 7.533214092254639, 'Low': 7.289286136627197, 'Close': 7.523213863372803, 'Adj_Close': 6.369150161743164, 'Volume': 605892000, 'Stock': 'AAPL'}  ... displaying 10 of 34499 total bound parameter sets ...  {'Date': datetime.datetime(2023, 12, 28, 0, 0), 'Open': 492.0, 'High': 492.8900146484375, 'Low': 489.07000732421875, 'Close': 490.510009765625, 'Adj_Close': 490.510009765625, 'Volume': 1710500, 'Stock': 'NFLX'}, {'Date': datetime.datetime(2023, 12, 29, 0, 0), 'Open': 490.3699951171875, 'High': 492.2300109863281, 'Low': 481.94000244140625, 'Close': 486.8800048828125, 'Adj_Close': 486.8800048828125, 'Volume': 2739500, 'Stock': 'NFLX'}]\n",
      "2024-06-18 01:20:15,228 INFO sqlalchemy.engine.Engine COMMIT\n",
      "Data inserted successfully\n"
     ]
    }
   ],
   "source": [
    "# If connection is successful, proceed to insert data using SQLAlchemy\n",
    "if conn:\n",
    "    try:\n",
    "        # Create SQLAlchemy engine\n",
    "        engine = create_engine(f\"mysql+mysqlconnector://{db_user}:{db_password}@{db_host}:{db_port}/{db_name}\", connect_args={\"auth_plugin\": \"mysql_native_password\"}, echo=True)\n",
    "\n",
    "        # Insert DataFrame into MySQL table\n",
    "        data.to_sql('stock', con=engine, if_exists='append', index=False)\n",
    "        print(\"Data inserted successfully\")\n",
    "\n",
    "    except Exception as e:\n",
    "        print(f\"Error: {e}\")\n",
    "\n",
    "    finally:\n",
    "        # Close the connection\n",
    "        conn.close()\n",
    "        engine.dispose()"
   ]
  },
  {
   "cell_type": "markdown",
   "metadata": {},
   "source": [
    "### Summary:\n",
    "\n",
    "* The historical monthly stock market data (from 2010-01-01 to 2024-01-01) of 'Apple Inc.', 'Microsoft Corporation', 'Alphabet Inc.', 'Amazon.com, Inc.', 'Tesla, Inc.', 'Meta Platforms, Inc.', 'NVIDIA Corporation', 'JPMorgan Chase & Co.', 'Visa Inc.', 'Netflix, Inc.' companies are collected from Yahoo Finance website & saved into data/stock_data.csv file.\n",
    "* Connection with MySQL database has been established & the same data has been inserted into a table named `stock`."
   ]
  }
 ],
 "metadata": {
  "kernelspec": {
   "display_name": "stock",
   "language": "python",
   "name": "python3"
  },
  "language_info": {
   "codemirror_mode": {
    "name": "ipython",
    "version": 3
   },
   "file_extension": ".py",
   "mimetype": "text/x-python",
   "name": "python",
   "nbconvert_exporter": "python",
   "pygments_lexer": "ipython3",
   "version": "3.10.12"
  }
 },
 "nbformat": 4,
 "nbformat_minor": 2
}
