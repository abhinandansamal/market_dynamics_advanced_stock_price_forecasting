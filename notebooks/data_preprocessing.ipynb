{
 "cells": [
  {
   "cell_type": "code",
   "execution_count": 10,
   "metadata": {},
   "outputs": [],
   "source": [
    "# Import required libraries\n",
    "import numpy as np\n",
    "import pandas as pd\n",
    "import mysql.connector\n",
    "from sqlalchemy import create_engine\n",
    "import os\n",
    "import matplotlib.pyplot as plt\n",
    "import seaborn as sns"
   ]
  },
  {
   "cell_type": "code",
   "execution_count": 4,
   "metadata": {},
   "outputs": [],
   "source": [
    "# Database connection details\n",
    "db_host = 'localhost'\n",
    "db_port = 3306\n",
    "db_name = 'stock_db'\n",
    "db_user = 'stock_user'\n",
    "db_password = 'calculus'"
   ]
  },
  {
   "cell_type": "code",
   "execution_count": 52,
   "metadata": {},
   "outputs": [],
   "source": [
    "# Function to fetch data from MySQL database\n",
    "def fetch_data_from_db():\n",
    "    \"\"\"\n",
    "    Fetches data from the MySQL database.\n",
    "\n",
    "    Returns:\n",
    "        data (pd.DataFrame): DataFrame containing the fetched data.\n",
    "    \"\"\"\n",
    "    try:\n",
    "        conn = mysql.connector.connect(host=db_host,\n",
    "                                       user=db_user,\n",
    "                                       password=db_password,\n",
    "                                       database=db_name,\n",
    "                                       auth_plugin='mysql_native_password')\n",
    "        print(\"Connection successful\")\n",
    "    except Exception as e:\n",
    "        print(e)\n",
    "        return None\n",
    "\n",
    "    if conn:\n",
    "        try:\n",
    "            engine = create_engine(f\"mysql+mysqlconnector://{db_user}:{db_password}@{db_host}:{db_port}/{db_name}\", connect_args={\"auth_plugin\": \"mysql_native_password\"}, echo=True)\n",
    "            query = \"SELECT * FROM stock\"\n",
    "            data = pd.read_sql(query, con=engine)\n",
    "            print(\"Data fetched successfully\")\n",
    "            return data\n",
    "        except Exception as e:\n",
    "            print(f\"Error: {e}\")\n",
    "            return None\n",
    "        finally:\n",
    "            conn.close()\n",
    "            engine.dispose()"
   ]
  },
  {
   "cell_type": "code",
   "execution_count": 53,
   "metadata": {},
   "outputs": [
    {
     "name": "stdout",
     "output_type": "stream",
     "text": [
      "Connection successful\n",
      "2024-06-18 19:33:31,962 INFO sqlalchemy.engine.Engine SELECT DATABASE()\n",
      "2024-06-18 19:33:31,963 INFO sqlalchemy.engine.Engine [raw sql] {}\n",
      "2024-06-18 19:33:31,965 INFO sqlalchemy.engine.Engine SELECT @@sql_mode\n",
      "2024-06-18 19:33:31,966 INFO sqlalchemy.engine.Engine [raw sql] {}\n",
      "2024-06-18 19:33:31,966 INFO sqlalchemy.engine.Engine SELECT @@lower_case_table_names\n",
      "2024-06-18 19:33:31,966 INFO sqlalchemy.engine.Engine [raw sql] {}\n",
      "2024-06-18 19:33:31,968 INFO sqlalchemy.engine.Engine BEGIN (implicit)\n",
      "2024-06-18 19:33:31,968 INFO sqlalchemy.engine.Engine DESCRIBE `stock_db`.`SELECT * FROM stock`\n",
      "2024-06-18 19:33:31,968 INFO sqlalchemy.engine.Engine [raw sql] {}\n",
      "2024-06-18 19:33:31,990 INFO sqlalchemy.engine.Engine SELECT * FROM stock\n",
      "2024-06-18 19:33:31,990 INFO sqlalchemy.engine.Engine [raw sql] {}\n",
      "2024-06-18 19:33:32,100 INFO sqlalchemy.engine.Engine ROLLBACK\n",
      "Data fetched successfully\n",
      "Data fetched successfully\n"
     ]
    }
   ],
   "source": [
    "# Load data\n",
    "data = fetch_data_from_db()\n",
    "if data is not None:\n",
    "    print(\"Data fetched successfully\")\n",
    "else:\n",
    "    print(\"Failed to fetch data\")"
   ]
  },
  {
   "cell_type": "code",
   "execution_count": 57,
   "metadata": {},
   "outputs": [
    {
     "name": "stdout",
     "output_type": "stream",
     "text": [
      "<class 'pandas.core.frame.DataFrame'>\n",
      "RangeIndex: 34499 entries, 0 to 34498\n",
      "Data columns (total 8 columns):\n",
      " #   Column     Non-Null Count  Dtype  \n",
      "---  ------     --------------  -----  \n",
      " 0   Date       34499 non-null  object \n",
      " 1   Open       34499 non-null  float64\n",
      " 2   High       34499 non-null  float64\n",
      " 3   Low        34499 non-null  float64\n",
      " 4   Close      34499 non-null  float64\n",
      " 5   Adj Close  34499 non-null  float64\n",
      " 6   Volume     34499 non-null  int64  \n",
      " 7   Stock      34499 non-null  object \n",
      "dtypes: float64(5), int64(1), object(2)\n",
      "memory usage: 2.1+ MB\n"
     ]
    },
    {
     "data": {
      "text/plain": [
       "None"
      ]
     },
     "metadata": {},
     "output_type": "display_data"
    }
   ],
   "source": [
    "# Check the details of the data\n",
    "display(data.info())"
   ]
  },
  {
   "cell_type": "markdown",
   "metadata": {},
   "source": [
    "**Observation:**\n",
    "\n",
    "* The data type of `Date` column has been changed from \"datetime64[ns]\" to \"object\"."
   ]
  },
  {
   "cell_type": "code",
   "execution_count": 58,
   "metadata": {},
   "outputs": [
    {
     "data": {
      "text/html": [
       "<div>\n",
       "<style scoped>\n",
       "    .dataframe tbody tr th:only-of-type {\n",
       "        vertical-align: middle;\n",
       "    }\n",
       "\n",
       "    .dataframe tbody tr th {\n",
       "        vertical-align: top;\n",
       "    }\n",
       "\n",
       "    .dataframe thead th {\n",
       "        text-align: right;\n",
       "    }\n",
       "</style>\n",
       "<table border=\"1\" class=\"dataframe\">\n",
       "  <thead>\n",
       "    <tr style=\"text-align: right;\">\n",
       "      <th></th>\n",
       "      <th>Date</th>\n",
       "      <th>Open</th>\n",
       "      <th>High</th>\n",
       "      <th>Low</th>\n",
       "      <th>Close</th>\n",
       "      <th>Adj Close</th>\n",
       "      <th>Volume</th>\n",
       "      <th>Stock</th>\n",
       "    </tr>\n",
       "  </thead>\n",
       "  <tbody>\n",
       "    <tr>\n",
       "      <th>0</th>\n",
       "      <td>2010-01-04</td>\n",
       "      <td>7.62250</td>\n",
       "      <td>7.66071</td>\n",
       "      <td>7.58500</td>\n",
       "      <td>7.64321</td>\n",
       "      <td>6.47074</td>\n",
       "      <td>493729600</td>\n",
       "      <td>AAPL</td>\n",
       "    </tr>\n",
       "    <tr>\n",
       "      <th>1</th>\n",
       "      <td>2010-01-05</td>\n",
       "      <td>7.66429</td>\n",
       "      <td>7.69964</td>\n",
       "      <td>7.61607</td>\n",
       "      <td>7.65643</td>\n",
       "      <td>6.48193</td>\n",
       "      <td>601904800</td>\n",
       "      <td>AAPL</td>\n",
       "    </tr>\n",
       "    <tr>\n",
       "      <th>2</th>\n",
       "      <td>2010-01-06</td>\n",
       "      <td>7.65643</td>\n",
       "      <td>7.68679</td>\n",
       "      <td>7.52679</td>\n",
       "      <td>7.53464</td>\n",
       "      <td>6.37882</td>\n",
       "      <td>552160000</td>\n",
       "      <td>AAPL</td>\n",
       "    </tr>\n",
       "    <tr>\n",
       "      <th>3</th>\n",
       "      <td>2010-01-07</td>\n",
       "      <td>7.56250</td>\n",
       "      <td>7.57143</td>\n",
       "      <td>7.46607</td>\n",
       "      <td>7.52071</td>\n",
       "      <td>6.36703</td>\n",
       "      <td>477131200</td>\n",
       "      <td>AAPL</td>\n",
       "    </tr>\n",
       "    <tr>\n",
       "      <th>4</th>\n",
       "      <td>2010-01-08</td>\n",
       "      <td>7.51071</td>\n",
       "      <td>7.57143</td>\n",
       "      <td>7.46643</td>\n",
       "      <td>7.57071</td>\n",
       "      <td>6.40936</td>\n",
       "      <td>447610800</td>\n",
       "      <td>AAPL</td>\n",
       "    </tr>\n",
       "  </tbody>\n",
       "</table>\n",
       "</div>"
      ],
      "text/plain": [
       "         Date     Open     High      Low    Close  Adj Close     Volume Stock\n",
       "0  2010-01-04  7.62250  7.66071  7.58500  7.64321    6.47074  493729600  AAPL\n",
       "1  2010-01-05  7.66429  7.69964  7.61607  7.65643    6.48193  601904800  AAPL\n",
       "2  2010-01-06  7.65643  7.68679  7.52679  7.53464    6.37882  552160000  AAPL\n",
       "3  2010-01-07  7.56250  7.57143  7.46607  7.52071    6.36703  477131200  AAPL\n",
       "4  2010-01-08  7.51071  7.57143  7.46643  7.57071    6.40936  447610800  AAPL"
      ]
     },
     "metadata": {},
     "output_type": "display_data"
    }
   ],
   "source": [
    "display(data.head())"
   ]
  },
  {
   "cell_type": "code",
   "execution_count": 56,
   "metadata": {},
   "outputs": [
    {
     "data": {
      "text/html": [
       "<div>\n",
       "<style scoped>\n",
       "    .dataframe tbody tr th:only-of-type {\n",
       "        vertical-align: middle;\n",
       "    }\n",
       "\n",
       "    .dataframe tbody tr th {\n",
       "        vertical-align: top;\n",
       "    }\n",
       "\n",
       "    .dataframe thead th {\n",
       "        text-align: right;\n",
       "    }\n",
       "</style>\n",
       "<table border=\"1\" class=\"dataframe\">\n",
       "  <thead>\n",
       "    <tr style=\"text-align: right;\">\n",
       "      <th></th>\n",
       "      <th>Open</th>\n",
       "      <th>High</th>\n",
       "      <th>Low</th>\n",
       "      <th>Close</th>\n",
       "      <th>Adj Close</th>\n",
       "      <th>Volume</th>\n",
       "    </tr>\n",
       "  </thead>\n",
       "  <tbody>\n",
       "    <tr>\n",
       "      <th>count</th>\n",
       "      <td>34499.000000</td>\n",
       "      <td>34499.000000</td>\n",
       "      <td>34499.000000</td>\n",
       "      <td>34499.000000</td>\n",
       "      <td>34499.000000</td>\n",
       "      <td>3.449900e+04</td>\n",
       "    </tr>\n",
       "    <tr>\n",
       "      <th>mean</th>\n",
       "      <td>91.902631</td>\n",
       "      <td>93.064384</td>\n",
       "      <td>90.716992</td>\n",
       "      <td>91.921633</td>\n",
       "      <td>89.448525</td>\n",
       "      <td>1.120512e+08</td>\n",
       "    </tr>\n",
       "    <tr>\n",
       "      <th>std</th>\n",
       "      <td>102.357538</td>\n",
       "      <td>103.779269</td>\n",
       "      <td>100.883930</td>\n",
       "      <td>102.356829</td>\n",
       "      <td>102.394971</td>\n",
       "      <td>1.952454e+08</td>\n",
       "    </tr>\n",
       "    <tr>\n",
       "      <th>min</th>\n",
       "      <td>0.218000</td>\n",
       "      <td>0.226250</td>\n",
       "      <td>0.216250</td>\n",
       "      <td>0.222000</td>\n",
       "      <td>0.203624</td>\n",
       "      <td>1.144000e+06</td>\n",
       "    </tr>\n",
       "    <tr>\n",
       "      <th>25%</th>\n",
       "      <td>19.231250</td>\n",
       "      <td>19.477750</td>\n",
       "      <td>18.980750</td>\n",
       "      <td>19.235000</td>\n",
       "      <td>18.268300</td>\n",
       "      <td>1.683060e+07</td>\n",
       "    </tr>\n",
       "    <tr>\n",
       "      <th>50%</th>\n",
       "      <td>52.160000</td>\n",
       "      <td>52.647500</td>\n",
       "      <td>51.600000</td>\n",
       "      <td>52.148500</td>\n",
       "      <td>47.440100</td>\n",
       "      <td>3.933180e+07</td>\n",
       "    </tr>\n",
       "    <tr>\n",
       "      <th>75%</th>\n",
       "      <td>135.005000</td>\n",
       "      <td>136.595000</td>\n",
       "      <td>133.615000</td>\n",
       "      <td>135.118500</td>\n",
       "      <td>131.692000</td>\n",
       "      <td>1.030308e+08</td>\n",
       "    </tr>\n",
       "    <tr>\n",
       "      <th>max</th>\n",
       "      <td>692.350000</td>\n",
       "      <td>700.990000</td>\n",
       "      <td>686.090000</td>\n",
       "      <td>691.690000</td>\n",
       "      <td>691.690000</td>\n",
       "      <td>3.692928e+09</td>\n",
       "    </tr>\n",
       "  </tbody>\n",
       "</table>\n",
       "</div>"
      ],
      "text/plain": [
       "               Open          High           Low         Close     Adj Close  \\\n",
       "count  34499.000000  34499.000000  34499.000000  34499.000000  34499.000000   \n",
       "mean      91.902631     93.064384     90.716992     91.921633     89.448525   \n",
       "std      102.357538    103.779269    100.883930    102.356829    102.394971   \n",
       "min        0.218000      0.226250      0.216250      0.222000      0.203624   \n",
       "25%       19.231250     19.477750     18.980750     19.235000     18.268300   \n",
       "50%       52.160000     52.647500     51.600000     52.148500     47.440100   \n",
       "75%      135.005000    136.595000    133.615000    135.118500    131.692000   \n",
       "max      692.350000    700.990000    686.090000    691.690000    691.690000   \n",
       "\n",
       "             Volume  \n",
       "count  3.449900e+04  \n",
       "mean   1.120512e+08  \n",
       "std    1.952454e+08  \n",
       "min    1.144000e+06  \n",
       "25%    1.683060e+07  \n",
       "50%    3.933180e+07  \n",
       "75%    1.030308e+08  \n",
       "max    3.692928e+09  "
      ]
     },
     "metadata": {},
     "output_type": "display_data"
    }
   ],
   "source": [
    "display(data.describe())"
   ]
  },
  {
   "cell_type": "code",
   "execution_count": 62,
   "metadata": {},
   "outputs": [],
   "source": [
    "# Identify missing values\n",
    "def check_missing_values(df):\n",
    "    \"\"\"\n",
    "    Identifies missing values in the DataFrame.\n",
    "\n",
    "    Args:\n",
    "        df (pd.DataFrame): The DataFrame to check for missing values.\n",
    "\n",
    "    Returns:\n",
    "        pd.Series: A series containing the count of missing values in each column.\n",
    "    \"\"\"\n",
    "    missing_values = df.isnull().sum()\n",
    "    print(\"Missing values in each column:\\n\", missing_values)"
   ]
  },
  {
   "cell_type": "code",
   "execution_count": 63,
   "metadata": {},
   "outputs": [
    {
     "name": "stdout",
     "output_type": "stream",
     "text": [
      "Missing values in each column:\n",
      " Date         0\n",
      "Open         0\n",
      "High         0\n",
      "Low          0\n",
      "Close        0\n",
      "Adj Close    0\n",
      "Volume       0\n",
      "Stock        0\n",
      "dtype: int64\n"
     ]
    }
   ],
   "source": [
    "# calling check_missing_values()\n",
    "check_missing_values(data)"
   ]
  },
  {
   "cell_type": "code",
   "execution_count": 64,
   "metadata": {},
   "outputs": [],
   "source": [
    "# Identify duplicate values\n",
    "def check_duplicate_values(df):\n",
    "    \"\"\"\n",
    "    Identifies duplicate rows in the DataFrame.\n",
    "\n",
    "    Args:\n",
    "        df (pd.DataFrame): The DataFrame to check for duplicate values.\n",
    "\n",
    "    Returns:\n",
    "        int: The number of duplicate rows.\n",
    "    \"\"\"\n",
    "    duplicate_count = df.duplicated().sum()\n",
    "    print(\"Number of duplicate rows:\", duplicate_count)"
   ]
  },
  {
   "cell_type": "code",
   "execution_count": 65,
   "metadata": {},
   "outputs": [
    {
     "name": "stdout",
     "output_type": "stream",
     "text": [
      "Number of duplicate rows: 0\n"
     ]
    }
   ],
   "source": [
    "# calling check_duplicate_values()\n",
    "check_duplicate_values(data)"
   ]
  },
  {
   "cell_type": "code",
   "execution_count": 70,
   "metadata": {},
   "outputs": [],
   "source": [
    "# Visualize outliers\n",
    "def visualize_outliers(df):\n",
    "    \"\"\"\n",
    "    Visualizes outliers in the DataFrame using box plots.\n",
    "\n",
    "    Args:\n",
    "        df (pd.DataFrame): The DataFrame to visualize.\n",
    "    \"\"\"\n",
    "    fig, axes = plt.subplots(nrows=3, ncols=2, figsize=(15, 10))\n",
    "    sns.boxplot(data=df, x='Open', ax=axes[0, 0])\n",
    "    sns.boxplot(data=df, x='High', ax=axes[0, 1])\n",
    "    sns.boxplot(data=df, x='Low', ax=axes[1, 0])\n",
    "    sns.boxplot(data=df, x='Adj Close', ax=axes[1, 1])\n",
    "    sns.boxplot(data=df, x='Volume', ax=axes[2, 0])\n",
    "    plt.tight_layout()\n",
    "    plt.show()"
   ]
  },
  {
   "cell_type": "code",
   "execution_count": 71,
   "metadata": {},
   "outputs": [
    {
     "data": {
      "image/png": "[encoded data removed]",
      "text/plain": [
       "<Figure size 1500x1000 with 6 Axes>"
      ]
     },
     "metadata": {},
     "output_type": "display_data"
    }
   ],
   "source": [
    "# calling visualize_outliers()\n",
    "visualize_outliers(data)"
   ]
  },
  {
   "cell_type": "markdown",
   "metadata": {},
   "source": [
    "**Observations:**\n",
    "\n",
    "1. Open, High, Low, Adj Close:\n",
    "    * These columns have a large number of data points identified as outliers. This is evident from the many data points that fall outside the whiskers of the box plots.\n",
    "    * The majority of the data points for these columns are concentrated below 200, with a median value that appears to be below 100. This indicates that while there are some very high values (outliers), most stock prices are relatively low.\n",
    "\n",
    "2. Volume:\n",
    "    * The 'Volume' column also has many outliers. Most data points fall below approximately 0.5 billion (5e8), but there are some extreme outliers that go up to approximately 3.5 billion.\n",
    "    * The data is highly skewed with a significant number of outliers on the higher end, indicating that there are some days with extremely high trading volumes compared to the majority.\n",
    "\n",
    "3. General Trend:\n",
    "    * Across all columns, there is a consistent pattern of many outliers. This suggests that while most stock prices and volumes are within a certain range, there are occasional extreme values that deviate significantly from the norm.\n",
    "    * The presence of many outliers can significantly affect the performance of certain models and may necessitate specific handling techniques like robust scaling, capping, or even feature engineering to mitigate their impact.\n",
    "\n",
    "**Key Considerations for Data Preprocessing:**\n",
    "\n",
    "* **Handling Outliers:** The large number of outliers, particularly in the 'Volume' column, indicates that it might be beneficial to explore robust methods for dealing with these outliers, such as log transformations, capping, or using models that are less sensitive to outliers.\n",
    "* **Feature Engineering:** Given the high variance and presence of outliers, creating additional features that capture the volatility or trends (e.g., moving averages, rolling statistics) might help improve model performance.\n",
    "* **Model Selection:** Models that are robust to outliers, such as tree-based methods (Random Forest, Gradient Boosting), might perform better compared to linear models which can be heavily influenced by these extreme values."
   ]
  },
  {
   "cell_type": "code",
   "execution_count": 72,
   "metadata": {},
   "outputs": [],
   "source": [
    "def check_inconsistent_data(df):\n",
    "    \"\"\"\n",
    "    Identifies inconsistent data in the DataFrame.\n",
    "\n",
    "    Args:\n",
    "        df (pd.DataFrame): The DataFrame to check for inconsistent data.\n",
    "\n",
    "    Returns:\n",
    "        pd.DataFrame: A DataFrame containing the inconsistent data.\n",
    "    \"\"\"\n",
    "    inconsistent_data = df[(df['Open'] < 0) | (df['Close'] < 0) | (df['High'] < 0) | (df['Low'] < 0) | (df['Volume'] < 0)]\n",
    "    print(\"Inconsistent data:\\n\", inconsistent_data)\n",
    "    return inconsistent_data"
   ]
  },
  {
   "cell_type": "code",
   "execution_count": 74,
   "metadata": {},
   "outputs": [
    {
     "name": "stdout",
     "output_type": "stream",
     "text": [
      "Inconsistent data:\n",
      " Empty DataFrame\n",
      "Columns: [Date, Open, High, Low, Close, Adj Close, Volume, Stock]\n",
      "Index: []\n"
     ]
    },
    {
     "data": {
      "text/html": [
       "<div>\n",
       "<style scoped>\n",
       "    .dataframe tbody tr th:only-of-type {\n",
       "        vertical-align: middle;\n",
       "    }\n",
       "\n",
       "    .dataframe tbody tr th {\n",
       "        vertical-align: top;\n",
       "    }\n",
       "\n",
       "    .dataframe thead th {\n",
       "        text-align: right;\n",
       "    }\n",
       "</style>\n",
       "<table border=\"1\" class=\"dataframe\">\n",
       "  <thead>\n",
       "    <tr style=\"text-align: right;\">\n",
       "      <th></th>\n",
       "      <th>Date</th>\n",
       "      <th>Open</th>\n",
       "      <th>High</th>\n",
       "      <th>Low</th>\n",
       "      <th>Close</th>\n",
       "      <th>Adj Close</th>\n",
       "      <th>Volume</th>\n",
       "      <th>Stock</th>\n",
       "    </tr>\n",
       "  </thead>\n",
       "  <tbody>\n",
       "  </tbody>\n",
       "</table>\n",
       "</div>"
      ],
      "text/plain": [
       "Empty DataFrame\n",
       "Columns: [Date, Open, High, Low, Close, Adj Close, Volume, Stock]\n",
       "Index: []"
      ]
     },
     "metadata": {},
     "output_type": "display_data"
    }
   ],
   "source": [
    "# calling check_inconsistent_data()\n",
    "inconsistent_data = check_inconsistent_data(data)\n",
    "display(inconsistent_data)"
   ]
  },
  {
   "cell_type": "code",
   "execution_count": null,
   "metadata": {},
   "outputs": [],
   "source": []
  }
 ],
 "metadata": {
  "kernelspec": {
   "display_name": "stock",
   "language": "python",
   "name": "python3"
  },
  "language_info": {
   "codemirror_mode": {
    "name": "ipython",
    "version": 3
   },
   "file_extension": ".py",
   "mimetype": "text/x-python",
   "name": "python",
   "nbconvert_exporter": "python",
   "pygments_lexer": "ipython3",
   "version": "3.10.12"
  }
 },
 "nbformat": 4,
 "nbformat_minor": 2
}
