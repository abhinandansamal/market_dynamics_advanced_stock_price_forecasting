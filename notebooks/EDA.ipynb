{
 "cells": [
  {
   "cell_type": "markdown",
   "metadata": {},
   "source": [
    "# Market Dynamics: Advanced Stock Price Forecasting\n",
    "\n",
    "## Life cycle of Machine Learning Project\n",
    "* Understanding the Problem Statement\n",
    "* Data Collection\n",
    "* Data Preprocessing\n",
    "* Exploratory Data Analysis\n",
    "* Feature Engineering\n",
    "* Model Training\n",
    "* Choose the best model"
   ]
  },
  {
   "cell_type": "markdown",
   "metadata": {},
   "source": []
  }
 ],
 "metadata": {
  "kernelspec": {
   "display_name": "stock",
   "language": "python",
   "name": "python3"
  },
  "language_info": {
   "name": "python",
   "version": "3.10.12"
  }
 },
 "nbformat": 4,
 "nbformat_minor": 2
}
